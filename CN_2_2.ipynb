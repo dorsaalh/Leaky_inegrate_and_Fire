{
  "nbformat": 4,
  "nbformat_minor": 0,
  "metadata": {
    "colab": {
      "provenance": [],
      "collapsed_sections": [],
      "authorship_tag": "ABX9TyP9rkhYk8Esflu01rD9Q575",
      "include_colab_link": true
    },
    "kernelspec": {
      "name": "python3",
      "display_name": "Python 3"
    },
    "language_info": {
      "name": "python"
    }
  },
  "cells": [
    {
      "cell_type": "markdown",
      "metadata": {
        "id": "view-in-github",
        "colab_type": "text"
      },
      "source": [
        "<a href=\"https://colab.research.google.com/github/dorsaalh/Spikey_Neurons_Simulation/blob/main/CN_2_2.ipynb\" target=\"_parent\"><img src=\"https://colab.research.google.com/assets/colab-badge.svg\" alt=\"Open In Colab\"/></a>"
      ]
    },
    {
      "cell_type": "code",
      "metadata": {
        "colab": {
          "base_uri": "https://localhost:8080/"
        },
        "id": "I3rcBYsB0Uaf",
        "outputId": "b78225a8-f93f-41a3-c4f7-95d17736dc1d"
      },
      "source": [
        "pip install brian2"
      ],
      "execution_count": null,
      "outputs": [
        {
          "output_type": "stream",
          "text": [
            "Requirement already satisfied: brian2 in /usr/local/lib/python3.7/dist-packages (2.4.2)\n",
            "Requirement already satisfied: setuptools>=24.2 in /usr/local/lib/python3.7/dist-packages (from brian2) (56.0.0)\n",
            "Requirement already satisfied: numpy>=1.15 in /usr/local/lib/python3.7/dist-packages (from brian2) (1.19.5)\n",
            "Requirement already satisfied: cython>=0.29 in /usr/local/lib/python3.7/dist-packages (from brian2) (0.29.22)\n",
            "Requirement already satisfied: jinja2>=2.7 in /usr/local/lib/python3.7/dist-packages (from brian2) (2.11.3)\n",
            "Requirement already satisfied: pyparsing in /usr/local/lib/python3.7/dist-packages (from brian2) (2.4.7)\n",
            "Requirement already satisfied: sympy>=1.2 in /usr/local/lib/python3.7/dist-packages (from brian2) (1.7.1)\n",
            "Requirement already satisfied: MarkupSafe>=0.23 in /usr/local/lib/python3.7/dist-packages (from jinja2>=2.7->brian2) (1.1.1)\n",
            "Requirement already satisfied: mpmath>=0.19 in /usr/local/lib/python3.7/dist-packages (from sympy>=1.2->brian2) (1.2.1)\n"
          ],
          "name": "stdout"
        }
      ]
    },
    {
      "cell_type": "code",
      "metadata": {
        "colab": {
          "base_uri": "https://localhost:8080/"
        },
        "id": "K7m7lAavsoZD",
        "outputId": "0bd00050-c88a-4248-cc2e-5d13dccc36d2"
      },
      "source": [
        "pip install brian2tools"
      ],
      "execution_count": null,
      "outputs": [
        {
          "output_type": "stream",
          "text": [
            "Requirement already satisfied: brian2tools in /usr/local/lib/python3.7/dist-packages (0.2.1.1)\n",
            "Requirement already satisfied: matplotlib>=1.3.1 in /usr/local/lib/python3.7/dist-packages (from brian2tools) (3.2.2)\n",
            "Requirement already satisfied: brian2>=2.0 in /usr/local/lib/python3.7/dist-packages (from brian2tools) (2.4.2)\n",
            "Requirement already satisfied: setuptools-scm in /usr/local/lib/python3.7/dist-packages (from brian2tools) (6.0.1)\n",
            "Requirement already satisfied: setuptools in /usr/local/lib/python3.7/dist-packages (from brian2tools) (56.0.0)\n",
            "Requirement already satisfied: pylems>=0.4.9 in /usr/local/lib/python3.7/dist-packages (from brian2tools) (0.5.2)\n",
            "Requirement already satisfied: cycler>=0.10 in /usr/local/lib/python3.7/dist-packages (from matplotlib>=1.3.1->brian2tools) (0.10.0)\n",
            "Requirement already satisfied: kiwisolver>=1.0.1 in /usr/local/lib/python3.7/dist-packages (from matplotlib>=1.3.1->brian2tools) (1.3.1)\n",
            "Requirement already satisfied: python-dateutil>=2.1 in /usr/local/lib/python3.7/dist-packages (from matplotlib>=1.3.1->brian2tools) (2.8.1)\n",
            "Requirement already satisfied: pyparsing!=2.0.4,!=2.1.2,!=2.1.6,>=2.0.1 in /usr/local/lib/python3.7/dist-packages (from matplotlib>=1.3.1->brian2tools) (2.4.7)\n",
            "Requirement already satisfied: numpy>=1.11 in /usr/local/lib/python3.7/dist-packages (from matplotlib>=1.3.1->brian2tools) (1.19.5)\n",
            "Requirement already satisfied: cython>=0.29 in /usr/local/lib/python3.7/dist-packages (from brian2>=2.0->brian2tools) (0.29.22)\n",
            "Requirement already satisfied: jinja2>=2.7 in /usr/local/lib/python3.7/dist-packages (from brian2>=2.0->brian2tools) (2.11.3)\n",
            "Requirement already satisfied: sympy>=1.2 in /usr/local/lib/python3.7/dist-packages (from brian2>=2.0->brian2tools) (1.7.1)\n",
            "Requirement already satisfied: lxml in /usr/local/lib/python3.7/dist-packages (from pylems>=0.4.9->brian2tools) (4.2.6)\n",
            "Requirement already satisfied: six in /usr/local/lib/python3.7/dist-packages (from cycler>=0.10->matplotlib>=1.3.1->brian2tools) (1.15.0)\n",
            "Requirement already satisfied: MarkupSafe>=0.23 in /usr/local/lib/python3.7/dist-packages (from jinja2>=2.7->brian2>=2.0->brian2tools) (1.1.1)\n",
            "Requirement already satisfied: mpmath>=0.19 in /usr/local/lib/python3.7/dist-packages (from sympy>=1.2->brian2>=2.0->brian2tools) (1.2.1)\n"
          ],
          "name": "stdout"
        }
      ]
    },
    {
      "cell_type": "code",
      "metadata": {
        "id": "WkQxpyQEY4ld"
      },
      "source": [
        "%matplotlib inline\n",
        "from brian2 import *\n",
        "import matplotlib.pyplot as plt\n",
        "import numpy as np\n",
        "from brian2tools import *\n",
        "from brian2.units import *"
      ],
      "execution_count": null,
      "outputs": []
    },
    {
      "cell_type": "code",
      "metadata": {
        "id": "LrfvPWhSneGF"
      },
      "source": [
        "tau = 200\n",
        "V_th = -50\n",
        "V_r = -70\n",
        "I_first_exc = 150\n",
        "I_second_exc = 100\n",
        "I_inh = 0\n",
        "R = 2\n",
        "V_init = -70\n",
        "p_first_exc = 0.1\n",
        "p_second_exc = 0.08\n",
        "p_e = 0.05\n",
        "p_i = 0.2\n",
        "w_first_e = 0.7\n",
        "w_second_e = 0.8\n",
        "w_e = 2\n",
        "w_i = -8\n",
        "N_first_exc = 800\n",
        "N_second_exc = 800\n",
        "N_inh = 200"
      ],
      "execution_count": null,
      "outputs": []
    },
    {
      "cell_type": "code",
      "metadata": {
        "colab": {
          "base_uri": "https://localhost:8080/"
        },
        "id": "4daM1WlOn3ZK",
        "outputId": "b99286a3-6041-40d6-f8fc-1e65a4dc15d3"
      },
      "source": [
        "start_scope()\n",
        "G = NeuronGroup(N_first_exc + N_second_exc + N_inh , '''dv/dt = (((V_r - v)+(R*I))/tau ) /(ms) : 1\n",
        "                                  I : 1''',\n",
        "                threshold = 'v > V_th',\n",
        "                reset='v = V_r'\n",
        "                )\n",
        "\n",
        "first_exc_G =  G[ :N_first_exc]    \n",
        "second_exc_G =  G[N_first_exc  : N_first_exc + N_second_exc] \n",
        "inh_G =  G[ N_first_exc + N_second_exc : ]                                                \n",
        "\n",
        "\n",
        "first_exc_G.v = V_init\n",
        "first_exc_G.I = I_first_exc\n",
        "\n",
        "\n",
        "second_exc_G.v = V_init\n",
        "second_exc_G.I = I_second_exc\n",
        "\n",
        "\n",
        "inh_G.v = V_init\n",
        "inh_G.I = I_inh\n",
        "\n",
        " \n",
        "first_exc_synapse = Synapses(first_exc_G , first_exc_G, 'w:1' , on_pre = 'v += w')  \n",
        "second_exc_synapse = Synapses(second_exc_G , second_exc_G , 'w:1' , on_pre = 'v += w')  \n",
        "inh_synapse = Synapses(inh_G , inh_G , 'w:1' , on_pre = 'v += w')\n",
        "\n",
        "\n",
        "first_exc_synapse.connect(p = p_first_exc)\n",
        "first_exc_synapse.w = w_first_e\n",
        "second_exc_synapse.connect(p = p_second_exc)\n",
        "second_exc_synapse.w = w_second_e\n",
        "inh_synapse.connect(p = p_i)\n",
        "inh_synapse.w = w_i\n",
        "\n",
        "\n",
        "spike_mon_first_exc = SpikeMonitor(first_exc_G)\n",
        "spike_mon_second_exc = SpikeMonitor(second_exc_G)\n",
        "spike_mon_inh = SpikeMonitor(inh_G)\n",
        "spike_mon_G = SpikeMonitor(G)\n",
        "\n",
        "\n",
        "state_mon_first_exc_I = StateMonitor(first_exc_G , 'I' , record=True)\n",
        "state_mon_first_exc_V = StateMonitor(first_exc_G , 'v' , record=True)\n",
        "state_mon_second_exc_V = StateMonitor(second_exc_G , 'v' , record=True)\n",
        "state_mon_second_exc_I = StateMonitor(second_exc_G , 'I' , record=True)\n",
        "state_mon_G_V = StateMonitor(G , 'v' , record=True)\n",
        "\n",
        "\n",
        "run(100*ms, report='text')"
      ],
      "execution_count": null,
      "outputs": [
        {
          "output_type": "stream",
          "text": [
            "INFO       No numerical integration method specified for group 'neurongroup', using method 'exact' (took 0.08s). [brian2.stateupdaters.base.method_choice]\n"
          ],
          "name": "stderr"
        },
        {
          "output_type": "stream",
          "text": [
            "Starting simulation at t=0. s for a duration of 100. ms\n",
            "100. ms (100%) simulated in < 1s\n"
          ],
          "name": "stdout"
        }
      ]
    },
    {
      "cell_type": "code",
      "metadata": {
        "colab": {
          "base_uri": "https://localhost:8080/",
          "height": 515
        },
        "id": "viqV9mK6trE3",
        "outputId": "dfb91f8b-e70a-4e73-e5b9-7ff7327eb4d6"
      },
      "source": [
        "plt.figure(figsize=(10,8))\n",
        "brian_plot(state_mon_second_exc_V[7])"
      ],
      "execution_count": null,
      "outputs": [
        {
          "output_type": "execute_result",
          "data": {
            "text/plain": [
              "<matplotlib.axes._subplots.AxesSubplot at 0x7f7748fff0d0>"
            ]
          },
          "metadata": {
            "tags": []
          },
          "execution_count": 13
        },
        {
          "output_type": "display_data",
          "data": {
            "image/png": "[encoded data removed]",
            "text/plain": [
              "<Figure size 720x576 with 1 Axes>"
            ]
          },
          "metadata": {
            "tags": [],
            "needs_background": "light"
          }
        }
      ]
    },
    {
      "cell_type": "code",
      "metadata": {
        "colab": {
          "base_uri": "https://localhost:8080/",
          "height": 515
        },
        "id": "XnpRGop-1G9T",
        "outputId": "3d95bc3c-e423-4da7-c426-5a60fa843d64"
      },
      "source": [
        "plt.figure(figsize=(10,8))\n",
        "brian_plot(spike_mon_second_exc)"
      ],
      "execution_count": null,
      "outputs": [
        {
          "output_type": "execute_result",
          "data": {
            "text/plain": [
              "<matplotlib.axes._subplots.AxesSubplot at 0x7f77474811d0>"
            ]
          },
          "metadata": {
            "tags": []
          },
          "execution_count": 15
        },
        {
          "output_type": "display_data",
          "data": {
            "image/png": "[encoded data removed]",
            "text/plain": [
              "<Figure size 720x576 with 1 Axes>"
            ]
          },
          "metadata": {
            "tags": [],
            "needs_background": "light"
          }
        }
      ]
    },
    {
      "cell_type": "code",
      "metadata": {
        "colab": {
          "base_uri": "https://localhost:8080/",
          "height": 515
        },
        "id": "x_ccdgAyuPuV",
        "outputId": "5ed396f4-7137-4cdd-e16a-7001da130ab3"
      },
      "source": [
        "plt.figure(figsize=(10,8))\n",
        "brian_plot(spike_mon_G)"
      ],
      "execution_count": null,
      "outputs": [
        {
          "output_type": "execute_result",
          "data": {
            "text/plain": [
              "<matplotlib.axes._subplots.AxesSubplot at 0x7f77479a33d0>"
            ]
          },
          "metadata": {
            "tags": []
          },
          "execution_count": 7
        },
        {
          "output_type": "display_data",
          "data": {
            "image/png": "[encoded data removed]",
            "text/plain": [
              "<Figure size 720x576 with 1 Axes>"
            ]
          },
          "metadata": {
            "tags": [],
            "needs_background": "light"
          }
        }
      ]
    },
    {
      "cell_type": "code",
      "metadata": {
        "colab": {
          "base_uri": "https://localhost:8080/"
        },
        "id": "DulZ0eLzuVMa",
        "outputId": "78e31943-eb3c-47c4-ae6e-ee5773b43a3c"
      },
      "source": [
        "print(f\"G spike = {spike_mon_G.num_spikes} \")\n",
        "print(f\"first exc spike = {spike_mon_first_exc.num_spikes} \")\n",
        "print(f\"second exc spike = {spike_mon_second_exc.num_spikes} \")\n",
        "print(f\"inh spike = {spike_mon_inh.num_spikes} \")"
      ],
      "execution_count": null,
      "outputs": [
        {
          "output_type": "stream",
          "text": [
            "G spike = 8800 \n",
            "first exc spike = 5600 \n",
            "second exc spike = 3200 \n",
            "inh spike = 0 \n"
          ],
          "name": "stdout"
        }
      ]
    },
    {
      "cell_type": "code",
      "metadata": {
        "colab": {
          "base_uri": "https://localhost:8080/"
        },
        "id": "lZm8pmVIuiwP",
        "outputId": "7114e0fa-aa77-40b4-f915-c0469b61912f"
      },
      "source": [
        "start_scope()\n",
        "G = NeuronGroup(N_first_exc + N_second_exc + N_inh , '''dv/dt = (((V_r - v)+(R*I))/tau ) /(ms) : 1\n",
        "                                  I : 1''',\n",
        "                threshold = 'v > V_th',\n",
        "                reset='v = V_r'\n",
        "                )\n",
        "\n",
        "first_exc_G =  G[ :N_first_exc]    \n",
        "second_exc_G =  G[N_first_exc  : N_first_exc + N_second_exc] \n",
        "inh_G =  G[ N_first_exc + N_second_exc : ]                                                \n",
        "\n",
        "\n",
        "first_exc_G.v = V_init\n",
        "first_exc_G.I = I_first_exc\n",
        "\n",
        "\n",
        "second_exc_G.v = V_init\n",
        "second_exc_G.I = I_second_exc\n",
        "\n",
        "\n",
        "inh_G.v = V_init\n",
        "inh_G.I = I_inh\n",
        "\n",
        " \n",
        "first_exc_synapse = Synapses(first_exc_G , first_exc_G, 'w:1' , on_pre = 'v += w')  \n",
        "second_exc_synapse = Synapses(second_exc_G , second_exc_G , 'w:1' , on_pre = 'v += w')  \n",
        "inh_synapse = Synapses(inh_G , inh_G , 'w:1' , on_pre = 'v += w')\n",
        "\n",
        "\n",
        "first_exc_synapse.connect(p = p_first_exc)\n",
        "first_exc_synapse.w = w_first_e\n",
        "\n",
        "\n",
        "second_exc_synapse.connect(p = p_second_exc)\n",
        "second_exc_synapse.w = w_second_e\n",
        "\n",
        "\n",
        "inh_synapse.connect(p = p_i)\n",
        "inh_synapse.w = w_i\n",
        "\n",
        "\n",
        "excs_synapse =  Synapses(first_exc_G , second_exc_G , 'w:1' , on_pre = 'v += w')  \n",
        "excs_synapse.connect(p = p_e)\n",
        "excs_synapse.w = w_e\n",
        "\n",
        "\n",
        "spike_mon_first_exc = SpikeMonitor( first_exc_G )\n",
        "spike_mon_second_exc = SpikeMonitor( second_exc_G )\n",
        "spike_mon_inh = SpikeMonitor(inh_G)\n",
        "spike_mon_G = SpikeMonitor(G)\n",
        "\n",
        "\n",
        "state_mon_first_exc_I = StateMonitor(first_exc_G , 'I' , record=True)\n",
        "state_mon_first_exc_V = StateMonitor(first_exc_G , 'v' , record=True)\n",
        "state_mon_second_exc_V = StateMonitor(second_exc_G , 'v' , record=True)\n",
        "state_mon_second_exc_I = StateMonitor(second_exc_G , 'I' , record=True)\n",
        "state_mon_G_V = StateMonitor(G , 'v' , record=True)\n",
        "\n",
        "\n",
        "run(100*ms, report='text')"
      ],
      "execution_count": null,
      "outputs": [
        {
          "output_type": "stream",
          "text": [
            "INFO       No numerical integration method specified for group 'neurongroup_1', using method 'exact' (took 0.03s). [brian2.stateupdaters.base.method_choice]\n"
          ],
          "name": "stderr"
        },
        {
          "output_type": "stream",
          "text": [
            "Starting simulation at t=0. s for a duration of 100. ms\n",
            "100. ms (100%) simulated in < 1s\n"
          ],
          "name": "stdout"
        }
      ]
    },
    {
      "cell_type": "code",
      "metadata": {
        "colab": {
          "base_uri": "https://localhost:8080/",
          "height": 515
        },
        "id": "7SX5OF14vGDv",
        "outputId": "a4655db0-0843-40e7-b891-7b97c12dc596"
      },
      "source": [
        "plt.figure(figsize=(10,8))\n",
        "brian_plot(state_mon_second_exc_V[7])"
      ],
      "execution_count": null,
      "outputs": [
        {
          "output_type": "execute_result",
          "data": {
            "text/plain": [
              "<matplotlib.axes._subplots.AxesSubplot at 0x7f7748728290>"
            ]
          },
          "metadata": {
            "tags": []
          },
          "execution_count": 14
        },
        {
          "output_type": "display_data",
          "data": {
            "image/png": "[encoded data removed]",
            "text/plain": [
              "<Figure size 720x576 with 1 Axes>"
            ]
          },
          "metadata": {
            "tags": [],
            "needs_background": "light"
          }
        }
      ]
    },
    {
      "cell_type": "code",
      "metadata": {
        "colab": {
          "base_uri": "https://localhost:8080/",
          "height": 515
        },
        "id": "AwXRZC1r1R8m",
        "outputId": "1f971c2a-e637-4050-a2c4-0c31600e01e5"
      },
      "source": [
        "plt.figure(figsize=(10,8))\n",
        "brian_plot(spike_mon_second_exc)"
      ],
      "execution_count": null,
      "outputs": [
        {
          "output_type": "execute_result",
          "data": {
            "text/plain": [
              "<matplotlib.axes._subplots.AxesSubplot at 0x7f7748cdad90>"
            ]
          },
          "metadata": {
            "tags": []
          },
          "execution_count": 16
        },
        {
          "output_type": "display_data",
          "data": {
            "image/png": "[encoded data removed]",
            "text/plain": [
              "<Figure size 720x576 with 1 Axes>"
            ]
          },
          "metadata": {
            "tags": [],
            "needs_background": "light"
          }
        }
      ]
    },
    {
      "cell_type": "code",
      "metadata": {
        "colab": {
          "base_uri": "https://localhost:8080/",
          "height": 515
        },
        "id": "IIgVOY2lvVMj",
        "outputId": "5a782450-1bc8-42f5-cc15-2ead836656bf"
      },
      "source": [
        "plt.figure(figsize=(10,8))\n",
        "brian_plot(spike_mon_G)"
      ],
      "execution_count": null,
      "outputs": [
        {
          "output_type": "execute_result",
          "data": {
            "text/plain": [
              "<matplotlib.axes._subplots.AxesSubplot at 0x7f77472e8d50>"
            ]
          },
          "metadata": {
            "tags": []
          },
          "execution_count": 11
        },
        {
          "output_type": "display_data",
          "data": {
            "image/png": "[encoded data removed]",
            "text/plain": [
              "<Figure size 720x576 with 1 Axes>"
            ]
          },
          "metadata": {
            "tags": [],
            "needs_background": "light"
          }
        }
      ]
    },
    {
      "cell_type": "code",
      "metadata": {
        "colab": {
          "base_uri": "https://localhost:8080/"
        },
        "id": "SqTQBF2oveZT",
        "outputId": "f889ab14-e037-43f4-f222-ea4a839839b4"
      },
      "source": [
        "print(f\"G spike = {spike_mon_G.num_spikes} \")\n",
        "print(f\"first exc spike = {spike_mon_first_exc.num_spikes} \")\n",
        "print(f\"second exc spike = {spike_mon_second_exc.num_spikes} \")\n",
        "print(f\"inh spike = {spike_mon_inh.num_spikes} \")"
      ],
      "execution_count": null,
      "outputs": [
        {
          "output_type": "stream",
          "text": [
            "G spike = 11200 \n",
            "first exc spike = 5600 \n",
            "second exc spike = 5600 \n",
            "inh spike = 0 \n"
          ],
          "name": "stdout"
        }
      ]
    }
  ]
}